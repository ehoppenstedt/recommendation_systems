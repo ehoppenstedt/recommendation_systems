{
  "nbformat": 4,
  "nbformat_minor": 0,
  "metadata": {
    "colab": {
      "provenance": [],
      "gpuType": "T4",
      "authorship_tag": "ABX9TyPYuBbWaYQWUj8Wl2akCB4Z",
      "include_colab_link": true
    },
    "kernelspec": {
      "name": "python3",
      "display_name": "Python 3"
    },
    "language_info": {
      "name": "python"
    },
    "accelerator": "GPU"
  },
  "cells": [
    {
      "cell_type": "markdown",
      "metadata": {
        "id": "view-in-github",
        "colab_type": "text"
      },
      "source": [
        "<a href=\"https://colab.research.google.com/github/ehoppenstedt/recommendation_systems/blob/main/course_recomendation_system.ipynb\" target=\"_parent\"><img src=\"https://colab.research.google.com/assets/colab-badge.svg\" alt=\"Open In Colab\"/></a>"
      ]
    },
    {
      "cell_type": "markdown",
      "source": [
        "#Course Recommendations\n",
        "\n",
        "This is a course recommendation system.\n",
        "It is trained in an Edtech platform where users can select courses and create customized learning paths.\n",
        "What I do here is check how courses are combined together by users, then use k-nearest neigbors to make a system that suggests 5 courses more likely to be combined with the course you want to see.\n",
        "\n",
        "This is useful because it can suggest learning paths to users based on what other users see as \"adequate\" combinations. The recommendation system was inspired in spotify's playlist creator,\n",
        "\n",
        "The steps here are:\n",
        "1. Preparation of the data\n",
        "2. A quick check for sparcity in the data to determine if the chosen model is adequate\n",
        "3. the model an recommendation system.\n"
      ],
      "metadata": {
        "id": "BLbQN9J_sZ0_"
      }
    },
    {
      "cell_type": "markdown",
      "source": [
        "# **Preparation of the Data**"
      ],
      "metadata": {
        "id": "nT9I70mFtOOT"
      }
    },
    {
      "cell_type": "code",
      "source": [
        "import pandas as pd\n",
        "from sklearn.preprocessing import MultiLabelBinarizer"
      ],
      "metadata": {
        "id": "THNPLz0w2wt0"
      },
      "execution_count": 1,
      "outputs": []
    },
    {
      "cell_type": "code",
      "source": [
        "#read both data sources and append them to have one df\n",
        "df1 = pd.read_csv('./lp_1M.csv')\n",
        "df2 = pd.read_csv('./lp_2M.csv')\n",
        "\n",
        "# Concatenate the two dataframes\n",
        "df = pd.concat([df1, df2], ignore_index=True)"
      ],
      "metadata": {
        "id": "IUVMRJd22qtM"
      },
      "execution_count": 7,
      "outputs": []
    },
    {
      "cell_type": "code",
      "source": [
        "#Save the whole DF.\n",
        "#It is somewhat heavy, so I advice caution\n",
        "df.to_csv(r'./lps.csv')"
      ],
      "metadata": {
        "id": "SId2KRdgNl15"
      },
      "execution_count": 163,
      "outputs": []
    },
    {
      "cell_type": "code",
      "source": [
        "df.shape, df.columns"
      ],
      "metadata": {
        "colab": {
          "base_uri": "https://localhost:8080/"
        },
        "id": "oCNOt0tn4MZi",
        "outputId": "9ec67ea7-f191-4070-8612-858ee02f245b"
      },
      "execution_count": 131,
      "outputs": [
        {
          "output_type": "execute_result",
          "data": {
            "text/plain": [
              "((2000000, 6),\n",
              " Index(['id', 'title', 'courses', 'order', 'level', 'user_learning_path_id'], dtype='object'))"
            ]
          },
          "metadata": {},
          "execution_count": 131
        }
      ]
    },
    {
      "cell_type": "code",
      "source": [
        "print(type(df['courses'].iloc[0]))"
      ],
      "metadata": {
        "colab": {
          "base_uri": "https://localhost:8080/"
        },
        "id": "fnyJS_3a6IFO",
        "outputId": "cb20d162-2661-43b2-959a-ccc4ae8ec3ef"
      },
      "execution_count": 132,
      "outputs": [
        {
          "output_type": "stream",
          "name": "stdout",
          "text": [
            "<class 'str'>\n"
          ]
        }
      ]
    },
    {
      "cell_type": "code",
      "execution_count": 10,
      "metadata": {
        "id": "CCbvtIxRrvY2"
      },
      "outputs": [],
      "source": [
        "#df['courses'] = df['courses'].apply(lambda x: x.strip('{}').split(','))  # Convert 'courses' from string to list\n",
        "#that previous line wasn't necessary, it assumed column 'courses' was not a list\n",
        "\n",
        "# Convert list of courses to one-hot encoded vectors\n",
        "mlb = MultiLabelBinarizer()\n",
        "encoded_courses = pd.DataFrame(mlb.fit_transform(df['courses']), columns=mlb.classes_, index=df.index)\n",
        "\n",
        "# Combine original dataframe with encoded courses\n",
        "df_combined = pd.concat([df, encoded_courses], axis=1)\n"
      ]
    },
    {
      "cell_type": "code",
      "source": [
        "df_combined.iloc[:, 4:].apply(pd.Series.unique)"
      ],
      "metadata": {
        "colab": {
          "base_uri": "https://localhost:8080/"
        },
        "id": "I_pr6BqvAkZw",
        "outputId": "a99cf817-5027-4a63-c92c-37de32550ec9"
      },
      "execution_count": 11,
      "outputs": [
        {
          "output_type": "execute_result",
          "data": {
            "text/plain": [
              "level                    [custom, optional, advanced, intermediate, bas...\n",
              "user_learning_path_id    [128322, 128323, 128324, 128325, 128326, 12832...\n",
              ",                                                                   [1, 0]\n",
              "0                                                                   [1, 0]\n",
              "1                                                                   [1, 0]\n",
              "2                                                                   [0, 1]\n",
              "3                                                                   [1, 0]\n",
              "4                                                                   [0, 1]\n",
              "5                                                                   [0, 1]\n",
              "6                                                                   [1, 0]\n",
              "7                                                                   [1, 0]\n",
              "8                                                                   [1, 0]\n",
              "9                                                                   [1, 0]\n",
              "{                                                                      [1]\n",
              "}                                                                      [1]\n",
              "dtype: object"
            ]
          },
          "metadata": {},
          "execution_count": 11
        }
      ]
    },
    {
      "cell_type": "code",
      "source": [
        "df_combined.select_dtypes(include=[np.number])"
      ],
      "metadata": {
        "colab": {
          "base_uri": "https://localhost:8080/",
          "height": 424
        },
        "id": "Nbb4FYvyAruS",
        "outputId": "ef91c7d8-825a-436d-df02-2f38817afc89"
      },
      "execution_count": 15,
      "outputs": [
        {
          "output_type": "execute_result",
          "data": {
            "text/plain": [
              "              id  order  user_learning_path_id  ,  0  1  2  3  4  5  6  7  8  \\\n",
              "0         107416      5                 128322  1  1  1  0  1  0  0  1  1  1   \n",
              "1         107417      5                 128323  1  1  1  1  1  1  1  1  1  1   \n",
              "2         107418      5                 128324  1  1  1  0  0  1  0  0  0  0   \n",
              "3         107419      5                 128325  1  1  1  1  0  0  1  0  1  1   \n",
              "4         107420      5                 128326  0  0  0  0  0  1  0  0  0  0   \n",
              "...          ...    ...                    ... .. .. .. .. .. .. .. .. .. ..   \n",
              "1999995  1495364      5                4762414  1  1  1  0  0  1  0  1  1  1   \n",
              "1999996  1495363      5                4762402  1  1  1  0  0  1  0  1  1  1   \n",
              "1999997  1495362      5                4762387  1  1  1  0  0  1  0  1  1  1   \n",
              "1999998  1495361      5                4762369  1  1  1  0  0  1  0  1  1  1   \n",
              "1999999  1495360      5                4762359  1  1  1  0  0  1  0  1  1  1   \n",
              "\n",
              "         9  {  }  \n",
              "0        1  1  1  \n",
              "1        1  1  1  \n",
              "2        1  1  1  \n",
              "3        1  1  1  \n",
              "4        1  1  1  \n",
              "...     .. .. ..  \n",
              "1999995  1  1  1  \n",
              "1999996  1  1  1  \n",
              "1999997  1  1  1  \n",
              "1999998  1  1  1  \n",
              "1999999  1  1  1  \n",
              "\n",
              "[2000000 rows x 16 columns]"
            ],
            "text/html": [
              "\n",
              "\n",
              "  <div id=\"df-0d28c71f-175c-432c-8c3f-cb646b35bd9b\">\n",
              "    <div class=\"colab-df-container\">\n",
              "      <div>\n",
              "<style scoped>\n",
              "    .dataframe tbody tr th:only-of-type {\n",
              "        vertical-align: middle;\n",
              "    }\n",
              "\n",
              "    .dataframe tbody tr th {\n",
              "        vertical-align: top;\n",
              "    }\n",
              "\n",
              "    .dataframe thead th {\n",
              "        text-align: right;\n",
              "    }\n",
              "</style>\n",
              "<table border=\"1\" class=\"dataframe\">\n",
              "  <thead>\n",
              "    <tr style=\"text-align: right;\">\n",
              "      <th></th>\n",
              "      <th>id</th>\n",
              "      <th>order</th>\n",
              "      <th>user_learning_path_id</th>\n",
              "      <th>,</th>\n",
              "      <th>0</th>\n",
              "      <th>1</th>\n",
              "      <th>2</th>\n",
              "      <th>3</th>\n",
              "      <th>4</th>\n",
              "      <th>5</th>\n",
              "      <th>6</th>\n",
              "      <th>7</th>\n",
              "      <th>8</th>\n",
              "      <th>9</th>\n",
              "      <th>{</th>\n",
              "      <th>}</th>\n",
              "    </tr>\n",
              "  </thead>\n",
              "  <tbody>\n",
              "    <tr>\n",
              "      <th>0</th>\n",
              "      <td>107416</td>\n",
              "      <td>5</td>\n",
              "      <td>128322</td>\n",
              "      <td>1</td>\n",
              "      <td>1</td>\n",
              "      <td>1</td>\n",
              "      <td>0</td>\n",
              "      <td>1</td>\n",
              "      <td>0</td>\n",
              "      <td>0</td>\n",
              "      <td>1</td>\n",
              "      <td>1</td>\n",
              "      <td>1</td>\n",
              "      <td>1</td>\n",
              "      <td>1</td>\n",
              "      <td>1</td>\n",
              "    </tr>\n",
              "    <tr>\n",
              "      <th>1</th>\n",
              "      <td>107417</td>\n",
              "      <td>5</td>\n",
              "      <td>128323</td>\n",
              "      <td>1</td>\n",
              "      <td>1</td>\n",
              "      <td>1</td>\n",
              "      <td>1</td>\n",
              "      <td>1</td>\n",
              "      <td>1</td>\n",
              "      <td>1</td>\n",
              "      <td>1</td>\n",
              "      <td>1</td>\n",
              "      <td>1</td>\n",
              "      <td>1</td>\n",
              "      <td>1</td>\n",
              "      <td>1</td>\n",
              "    </tr>\n",
              "    <tr>\n",
              "      <th>2</th>\n",
              "      <td>107418</td>\n",
              "      <td>5</td>\n",
              "      <td>128324</td>\n",
              "      <td>1</td>\n",
              "      <td>1</td>\n",
              "      <td>1</td>\n",
              "      <td>0</td>\n",
              "      <td>0</td>\n",
              "      <td>1</td>\n",
              "      <td>0</td>\n",
              "      <td>0</td>\n",
              "      <td>0</td>\n",
              "      <td>0</td>\n",
              "      <td>1</td>\n",
              "      <td>1</td>\n",
              "      <td>1</td>\n",
              "    </tr>\n",
              "    <tr>\n",
              "      <th>3</th>\n",
              "      <td>107419</td>\n",
              "      <td>5</td>\n",
              "      <td>128325</td>\n",
              "      <td>1</td>\n",
              "      <td>1</td>\n",
              "      <td>1</td>\n",
              "      <td>1</td>\n",
              "      <td>0</td>\n",
              "      <td>0</td>\n",
              "      <td>1</td>\n",
              "      <td>0</td>\n",
              "      <td>1</td>\n",
              "      <td>1</td>\n",
              "      <td>1</td>\n",
              "      <td>1</td>\n",
              "      <td>1</td>\n",
              "    </tr>\n",
              "    <tr>\n",
              "      <th>4</th>\n",
              "      <td>107420</td>\n",
              "      <td>5</td>\n",
              "      <td>128326</td>\n",
              "      <td>0</td>\n",
              "      <td>0</td>\n",
              "      <td>0</td>\n",
              "      <td>0</td>\n",
              "      <td>0</td>\n",
              "      <td>1</td>\n",
              "      <td>0</td>\n",
              "      <td>0</td>\n",
              "      <td>0</td>\n",
              "      <td>0</td>\n",
              "      <td>1</td>\n",
              "      <td>1</td>\n",
              "      <td>1</td>\n",
              "    </tr>\n",
              "    <tr>\n",
              "      <th>...</th>\n",
              "      <td>...</td>\n",
              "      <td>...</td>\n",
              "      <td>...</td>\n",
              "      <td>...</td>\n",
              "      <td>...</td>\n",
              "      <td>...</td>\n",
              "      <td>...</td>\n",
              "      <td>...</td>\n",
              "      <td>...</td>\n",
              "      <td>...</td>\n",
              "      <td>...</td>\n",
              "      <td>...</td>\n",
              "      <td>...</td>\n",
              "      <td>...</td>\n",
              "      <td>...</td>\n",
              "      <td>...</td>\n",
              "    </tr>\n",
              "    <tr>\n",
              "      <th>1999995</th>\n",
              "      <td>1495364</td>\n",
              "      <td>5</td>\n",
              "      <td>4762414</td>\n",
              "      <td>1</td>\n",
              "      <td>1</td>\n",
              "      <td>1</td>\n",
              "      <td>0</td>\n",
              "      <td>0</td>\n",
              "      <td>1</td>\n",
              "      <td>0</td>\n",
              "      <td>1</td>\n",
              "      <td>1</td>\n",
              "      <td>1</td>\n",
              "      <td>1</td>\n",
              "      <td>1</td>\n",
              "      <td>1</td>\n",
              "    </tr>\n",
              "    <tr>\n",
              "      <th>1999996</th>\n",
              "      <td>1495363</td>\n",
              "      <td>5</td>\n",
              "      <td>4762402</td>\n",
              "      <td>1</td>\n",
              "      <td>1</td>\n",
              "      <td>1</td>\n",
              "      <td>0</td>\n",
              "      <td>0</td>\n",
              "      <td>1</td>\n",
              "      <td>0</td>\n",
              "      <td>1</td>\n",
              "      <td>1</td>\n",
              "      <td>1</td>\n",
              "      <td>1</td>\n",
              "      <td>1</td>\n",
              "      <td>1</td>\n",
              "    </tr>\n",
              "    <tr>\n",
              "      <th>1999997</th>\n",
              "      <td>1495362</td>\n",
              "      <td>5</td>\n",
              "      <td>4762387</td>\n",
              "      <td>1</td>\n",
              "      <td>1</td>\n",
              "      <td>1</td>\n",
              "      <td>0</td>\n",
              "      <td>0</td>\n",
              "      <td>1</td>\n",
              "      <td>0</td>\n",
              "      <td>1</td>\n",
              "      <td>1</td>\n",
              "      <td>1</td>\n",
              "      <td>1</td>\n",
              "      <td>1</td>\n",
              "      <td>1</td>\n",
              "    </tr>\n",
              "    <tr>\n",
              "      <th>1999998</th>\n",
              "      <td>1495361</td>\n",
              "      <td>5</td>\n",
              "      <td>4762369</td>\n",
              "      <td>1</td>\n",
              "      <td>1</td>\n",
              "      <td>1</td>\n",
              "      <td>0</td>\n",
              "      <td>0</td>\n",
              "      <td>1</td>\n",
              "      <td>0</td>\n",
              "      <td>1</td>\n",
              "      <td>1</td>\n",
              "      <td>1</td>\n",
              "      <td>1</td>\n",
              "      <td>1</td>\n",
              "      <td>1</td>\n",
              "    </tr>\n",
              "    <tr>\n",
              "      <th>1999999</th>\n",
              "      <td>1495360</td>\n",
              "      <td>5</td>\n",
              "      <td>4762359</td>\n",
              "      <td>1</td>\n",
              "      <td>1</td>\n",
              "      <td>1</td>\n",
              "      <td>0</td>\n",
              "      <td>0</td>\n",
              "      <td>1</td>\n",
              "      <td>0</td>\n",
              "      <td>1</td>\n",
              "      <td>1</td>\n",
              "      <td>1</td>\n",
              "      <td>1</td>\n",
              "      <td>1</td>\n",
              "      <td>1</td>\n",
              "    </tr>\n",
              "  </tbody>\n",
              "</table>\n",
              "<p>2000000 rows × 16 columns</p>\n",
              "</div>\n",
              "      <button class=\"colab-df-convert\" onclick=\"convertToInteractive('df-0d28c71f-175c-432c-8c3f-cb646b35bd9b')\"\n",
              "              title=\"Convert this dataframe to an interactive table.\"\n",
              "              style=\"display:none;\">\n",
              "\n",
              "  <svg xmlns=\"http://www.w3.org/2000/svg\" height=\"24px\"viewBox=\"0 0 24 24\"\n",
              "       width=\"24px\">\n",
              "    <path d=\"M0 0h24v24H0V0z\" fill=\"none\"/>\n",
              "    <path d=\"M18.56 5.44l.94 2.06.94-2.06 2.06-.94-2.06-.94-.94-2.06-.94 2.06-2.06.94zm-11 1L8.5 8.5l.94-2.06 2.06-.94-2.06-.94L8.5 2.5l-.94 2.06-2.06.94zm10 10l.94 2.06.94-2.06 2.06-.94-2.06-.94-.94-2.06-.94 2.06-2.06.94z\"/><path d=\"M17.41 7.96l-1.37-1.37c-.4-.4-.92-.59-1.43-.59-.52 0-1.04.2-1.43.59L10.3 9.45l-7.72 7.72c-.78.78-.78 2.05 0 2.83L4 21.41c.39.39.9.59 1.41.59.51 0 1.02-.2 1.41-.59l7.78-7.78 2.81-2.81c.8-.78.8-2.07 0-2.86zM5.41 20L4 18.59l7.72-7.72 1.47 1.35L5.41 20z\"/>\n",
              "  </svg>\n",
              "      </button>\n",
              "\n",
              "\n",
              "\n",
              "    <div id=\"df-e9da632a-2797-41fd-8bd3-d923af89e4e5\">\n",
              "      <button class=\"colab-df-quickchart\" onclick=\"quickchart('df-e9da632a-2797-41fd-8bd3-d923af89e4e5')\"\n",
              "              title=\"Suggest charts.\"\n",
              "              style=\"display:none;\">\n",
              "\n",
              "<svg xmlns=\"http://www.w3.org/2000/svg\" height=\"24px\"viewBox=\"0 0 24 24\"\n",
              "     width=\"24px\">\n",
              "    <g>\n",
              "        <path d=\"M19 3H5c-1.1 0-2 .9-2 2v14c0 1.1.9 2 2 2h14c1.1 0 2-.9 2-2V5c0-1.1-.9-2-2-2zM9 17H7v-7h2v7zm4 0h-2V7h2v10zm4 0h-2v-4h2v4z\"/>\n",
              "    </g>\n",
              "</svg>\n",
              "      </button>\n",
              "    </div>\n",
              "\n",
              "<style>\n",
              "  .colab-df-quickchart {\n",
              "    background-color: #E8F0FE;\n",
              "    border: none;\n",
              "    border-radius: 50%;\n",
              "    cursor: pointer;\n",
              "    display: none;\n",
              "    fill: #1967D2;\n",
              "    height: 32px;\n",
              "    padding: 0 0 0 0;\n",
              "    width: 32px;\n",
              "  }\n",
              "\n",
              "  .colab-df-quickchart:hover {\n",
              "    background-color: #E2EBFA;\n",
              "    box-shadow: 0px 1px 2px rgba(60, 64, 67, 0.3), 0px 1px 3px 1px rgba(60, 64, 67, 0.15);\n",
              "    fill: #174EA6;\n",
              "  }\n",
              "\n",
              "  [theme=dark] .colab-df-quickchart {\n",
              "    background-color: #3B4455;\n",
              "    fill: #D2E3FC;\n",
              "  }\n",
              "\n",
              "  [theme=dark] .colab-df-quickchart:hover {\n",
              "    background-color: #434B5C;\n",
              "    box-shadow: 0px 1px 3px 1px rgba(0, 0, 0, 0.15);\n",
              "    filter: drop-shadow(0px 1px 2px rgba(0, 0, 0, 0.3));\n",
              "    fill: #FFFFFF;\n",
              "  }\n",
              "</style>\n",
              "\n",
              "    <script>\n",
              "      async function quickchart(key) {\n",
              "        const containerElement = document.querySelector('#' + key);\n",
              "        const charts = await google.colab.kernel.invokeFunction(\n",
              "            'suggestCharts', [key], {});\n",
              "      }\n",
              "    </script>\n",
              "\n",
              "      <script>\n",
              "\n",
              "function displayQuickchartButton(domScope) {\n",
              "  let quickchartButtonEl =\n",
              "    domScope.querySelector('#df-e9da632a-2797-41fd-8bd3-d923af89e4e5 button.colab-df-quickchart');\n",
              "  quickchartButtonEl.style.display =\n",
              "    google.colab.kernel.accessAllowed ? 'block' : 'none';\n",
              "}\n",
              "\n",
              "        displayQuickchartButton(document);\n",
              "      </script>\n",
              "      <style>\n",
              "    .colab-df-container {\n",
              "      display:flex;\n",
              "      flex-wrap:wrap;\n",
              "      gap: 12px;\n",
              "    }\n",
              "\n",
              "    .colab-df-convert {\n",
              "      background-color: #E8F0FE;\n",
              "      border: none;\n",
              "      border-radius: 50%;\n",
              "      cursor: pointer;\n",
              "      display: none;\n",
              "      fill: #1967D2;\n",
              "      height: 32px;\n",
              "      padding: 0 0 0 0;\n",
              "      width: 32px;\n",
              "    }\n",
              "\n",
              "    .colab-df-convert:hover {\n",
              "      background-color: #E2EBFA;\n",
              "      box-shadow: 0px 1px 2px rgba(60, 64, 67, 0.3), 0px 1px 3px 1px rgba(60, 64, 67, 0.15);\n",
              "      fill: #174EA6;\n",
              "    }\n",
              "\n",
              "    [theme=dark] .colab-df-convert {\n",
              "      background-color: #3B4455;\n",
              "      fill: #D2E3FC;\n",
              "    }\n",
              "\n",
              "    [theme=dark] .colab-df-convert:hover {\n",
              "      background-color: #434B5C;\n",
              "      box-shadow: 0px 1px 3px 1px rgba(0, 0, 0, 0.15);\n",
              "      filter: drop-shadow(0px 1px 2px rgba(0, 0, 0, 0.3));\n",
              "      fill: #FFFFFF;\n",
              "    }\n",
              "  </style>\n",
              "\n",
              "      <script>\n",
              "        const buttonEl =\n",
              "          document.querySelector('#df-0d28c71f-175c-432c-8c3f-cb646b35bd9b button.colab-df-convert');\n",
              "        buttonEl.style.display =\n",
              "          google.colab.kernel.accessAllowed ? 'block' : 'none';\n",
              "\n",
              "        async function convertToInteractive(key) {\n",
              "          const element = document.querySelector('#df-0d28c71f-175c-432c-8c3f-cb646b35bd9b');\n",
              "          const dataTable =\n",
              "            await google.colab.kernel.invokeFunction('convertToInteractive',\n",
              "                                                     [key], {});\n",
              "          if (!dataTable) return;\n",
              "\n",
              "          const docLinkHtml = 'Like what you see? Visit the ' +\n",
              "            '<a target=\"_blank\" href=https://colab.research.google.com/notebooks/data_table.ipynb>data table notebook</a>'\n",
              "            + ' to learn more about interactive tables.';\n",
              "          element.innerHTML = '';\n",
              "          dataTable['output_type'] = 'display_data';\n",
              "          await google.colab.output.renderOutput(dataTable, element);\n",
              "          const docLink = document.createElement('div');\n",
              "          docLink.innerHTML = docLinkHtml;\n",
              "          element.appendChild(docLink);\n",
              "        }\n",
              "      </script>\n",
              "    </div>\n",
              "  </div>\n"
            ]
          },
          "metadata": {},
          "execution_count": 15
        }
      ]
    },
    {
      "cell_type": "markdown",
      "source": [
        "# Sparcity of Data Test\n",
        "\n",
        "Formula:\n",
        "\n",
        "$\\text{Sparsity} = \\left(\\frac{\\text{Number of Missing Interactions}}{\\text{Total Possible Interactions}}\\right) \\times 100\\% $\n",
        "\n",
        "Sparsity of the data: In a recommendation system, we often deal with sparse data, where most users have not interacted with most items (courses, in this case). The sparser the data, the more data is generally needed to make accurate recommendations.\n"
      ],
      "metadata": {
        "id": "bqZmkZ4b6qeR"
      }
    },
    {
      "cell_type": "code",
      "source": [
        "import numpy as np\n",
        "\n",
        "# Assuming `df` is a DataFrame where each row is a user and each column is a course\n",
        "# and the values indicate whether the user has taken the course or not\n",
        "n_total = np.prod(df.shape)  # total number of possible interactions\n",
        "n_missing = df.isnull().sum().sum()  # total number of missing interactions\n",
        "\n",
        "sparsity = (n_missing / n_total) * 100\n",
        "\n",
        "sparsity\n"
      ],
      "metadata": {
        "colab": {
          "base_uri": "https://localhost:8080/"
        },
        "id": "GMGqxKiu6Qy5",
        "outputId": "1318743e-b7ed-41cc-f550-6c65dfb3c0c7"
      },
      "execution_count": 14,
      "outputs": [
        {
          "output_type": "execute_result",
          "data": {
            "text/plain": [
              "0.14396666666666666"
            ]
          },
          "metadata": {},
          "execution_count": 14
        }
      ]
    },
    {
      "cell_type": "markdown",
      "source": [
        "Given that my data consists of 2 million observations and has a sparsity level of 14.4% (which indicates that the matrix is not overly sparse), the K-Nearest Neighbors (KNN)  approach could potentially work well for the recommendation system.\n",
        "\n",
        "A potential approach could be to start with KNN to establish a baseline, then try a more complex deep learning model and see if it offers significant improvements.\n",
        "\n",
        "We might also consider other recommendation system algorithms like matrix factorization techniques, or even hybrid systems that combine the advantages of multiple approaches."
      ],
      "metadata": {
        "id": "4m4jRyNK-brQ"
      }
    },
    {
      "cell_type": "markdown",
      "source": [
        "# Model building"
      ],
      "metadata": {
        "id": "JfrGcaPR_h5Z"
      }
    },
    {
      "cell_type": "code",
      "source": [
        "from sklearn.neighbors import NearestNeighbors"
      ],
      "metadata": {
        "id": "f-e25UAQ-ZRx"
      },
      "execution_count": 16,
      "outputs": []
    },
    {
      "cell_type": "code",
      "source": [
        "# Building the model\n",
        "knn = NearestNeighbors(metric='cosine', algorithm='brute')\n",
        "df_combined_numerical = df_combined.select_dtypes(include=[np.number])\n",
        "knn.fit(df_combined_numerical)\n",
        "\n",
        "# Defining the recommendation function\n",
        "def recommend_courses(course_id, num_recommendations=5):\n",
        "    distances, indices = knn.kneighbors(df_combined.iloc[course_id, 4:].values.reshape(1, -1), n_neighbors=num_recommendations)\n",
        "    return df_combined_numerical.index[indices.flatten()].tolist()\n"
      ],
      "metadata": {
        "id": "qU0eoDww6k3d"
      },
      "execution_count": 130,
      "outputs": []
    },
    {
      "cell_type": "markdown",
      "source": [
        "#Finding courses in course catalogue"
      ],
      "metadata": {
        "id": "6IiriekzBQBz"
      }
    },
    {
      "cell_type": "code",
      "source": [
        "org_df = pd.read_csv('./course_catalogue.csv')\n",
        "org_df.columns"
      ],
      "metadata": {
        "colab": {
          "base_uri": "https://localhost:8080/"
        },
        "id": "lPmioPRlC9y5",
        "outputId": "953d0011-0104-465d-e496-d85f83c0b129"
      },
      "execution_count": 21,
      "outputs": [
        {
          "output_type": "execute_result",
          "data": {
            "text/plain": [
              "Index(['course_id', 'title', 'description', 'slug', 'course_launch_date'], dtype='object')"
            ]
          },
          "metadata": {},
          "execution_count": 21
        }
      ]
    },
    {
      "cell_type": "code",
      "source": [
        "# Assume org_df is your \"organizations_course\" dataframe\n",
        "def get_course_titles(course_ids):\n",
        "    return org_df.loc[org_df['course_id'].isin(course_ids), 'title'].tolist()"
      ],
      "metadata": {
        "id": "OKT4MQhLBLiB"
      },
      "execution_count": 22,
      "outputs": []
    },
    {
      "cell_type": "markdown",
      "source": [
        "#Making this interactive"
      ],
      "metadata": {
        "id": "KafP_X9mCDnF"
      }
    },
    {
      "cell_type": "code",
      "source": [
        "# Define a function to get the top 5 recommendations from the model\n",
        "def get_top5_recommendations(model, course_id, n_total):\n",
        "    distances, indices = model.kneighbors(df_combined_numerical.loc[course_id].values.reshape(1, -1), n_neighbors=n_total-1)\n",
        "    return indices[0]  # Exclude the first recommendation as it's the input course itself\n",
        "\n",
        "# Define a function to handle user input and provide recommendations\n",
        "def recommend_courses():\n",
        "    course_id = input(\"Please enter a course ID: \")  # Get course ID from user\n",
        "    course_id = int(course_id)  # Convert to int as your IDs are int\n",
        "\n",
        "    # Get top 5 recommendations\n",
        "    recommended_ids = get_top5_recommendations(knn, course_id, 6)\n",
        "\n",
        "\n",
        "    # Get course titles\n",
        "    recommended_titles = get_course_titles(recommended_ids)\n",
        "\n",
        "\n",
        "    print(f\"Courses recommended for: id: {course_id} Title: {recommended_titles[0]}\")\n",
        "    for id in recommended_titles:\n",
        "      print(id)\n"
      ],
      "metadata": {
        "id": "XJ7bmc7BCAtM"
      },
      "execution_count": 128,
      "outputs": []
    },
    {
      "cell_type": "code",
      "source": [
        "recommend_courses()"
      ],
      "metadata": {
        "colab": {
          "base_uri": "https://localhost:8080/"
        },
        "id": "1JYpotMNCni3",
        "outputId": "72e8f522-5bfc-4055-df39-0332ba05284e"
      },
      "execution_count": 129,
      "outputs": [
        {
          "name": "stdout",
          "output_type": "stream",
          "text": [
            "Please enter a course ID: 1753\n"
          ]
        },
        {
          "output_type": "stream",
          "name": "stderr",
          "text": [
            "/usr/local/lib/python3.10/dist-packages/sklearn/base.py:439: UserWarning: X does not have valid feature names, but NearestNeighbors was fitted with feature names\n",
            "  warnings.warn(\n"
          ]
        },
        {
          "output_type": "stream",
          "name": "stdout",
          "text": [
            "Courses recommended for: id: 1753 Title: Curso de Introducción a la Terminal y Línea de Comandos 2019\n",
            "Curso de Introducción a la Terminal y Línea de Comandos 2019\n",
            "Curso de Web Scraping: Extracción de Datos en la Web\n",
            "Curso de Gestión Efectiva del Tiempo\n",
            "Curso de Fidelización de Clientes\n",
            "Curso de CRM con Salesforce 2019\n"
          ]
        }
      ]
    },
    {
      "cell_type": "code",
      "source": [],
      "metadata": {
        "id": "yBf34VNUc7n2"
      },
      "execution_count": null,
      "outputs": []
    }
  ]
}